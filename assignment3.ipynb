{
 "cells": [
  {
   "cell_type": "code",
   "execution_count": 2,
   "id": "2e2a4015-7cb0-4b33-a8c9-2a97470a26ea",
   "metadata": {},
   "outputs": [],
   "source": [
    "# Import necessary libraries\n",
    "import pandas as pd\n",
    "import matplotlib.pyplot as plt\n",
    "import seaborn as sns\n",
    "\n",
    "# Set Seaborn style\n",
    "sns.set(style=\"whitegrid\")\n",
    "\n",
    "# Load the dataset  # Make sure the dataset is in your working directory\n"
   ]
  },
  {
   "cell_type": "code",
   "execution_count": 9,
   "id": "cd9be299-d34c-4ba0-9646-664e03b86708",
   "metadata": {},
   "outputs": [
    {
     "ename": "SyntaxError",
     "evalue": "(unicode error) 'unicodeescape' codec can't decode bytes in position 2-3: truncated \\UXXXXXXXX escape (3524099832.py, line 1)",
     "output_type": "error",
     "traceback": [
      "\u001b[1;36m  Cell \u001b[1;32mIn[9], line 1\u001b[1;36m\u001b[0m\n\u001b[1;33m    df = pd.read_csv(\"C:\\Users\\ESWAR\\Downloads\\archive (7)\\netflix_titles.csv\")\u001b[0m\n\u001b[1;37m                     ^\u001b[0m\n\u001b[1;31mSyntaxError\u001b[0m\u001b[1;31m:\u001b[0m (unicode error) 'unicodeescape' codec can't decode bytes in position 2-3: truncated \\UXXXXXXXX escape\n"
     ]
    }
   ],
   "source": [
    "df = pd.read_csv(\"C:\\Users\\ESWAR\\Downloads\\archive (7)\\netflix_titles.csv\")"
   ]
  },
  {
   "cell_type": "code",
   "execution_count": 3,
   "id": "dbc2635b-31b8-44f9-a2ab-1abbfe94386f",
   "metadata": {},
   "outputs": [
    {
     "name": "stdout",
     "output_type": "stream",
     "text": [
      "First 5 rows of the dataset:\n"
     ]
    },
    {
     "ename": "NameError",
     "evalue": "name 'df' is not defined",
     "output_type": "error",
     "traceback": [
      "\u001b[1;31m---------------------------------------------------------------------------\u001b[0m",
      "\u001b[1;31mNameError\u001b[0m                                 Traceback (most recent call last)",
      "Cell \u001b[1;32mIn[3], line 3\u001b[0m\n\u001b[0;32m      1\u001b[0m \u001b[38;5;66;03m# Display first 5 rows\u001b[39;00m\n\u001b[0;32m      2\u001b[0m \u001b[38;5;28mprint\u001b[39m(\u001b[38;5;124m\"\u001b[39m\u001b[38;5;124mFirst 5 rows of the dataset:\u001b[39m\u001b[38;5;124m\"\u001b[39m)\n\u001b[1;32m----> 3\u001b[0m df\u001b[38;5;241m.\u001b[39mhead()\n",
      "\u001b[1;31mNameError\u001b[0m: name 'df' is not defined"
     ]
    }
   ],
   "source": [
    "# Display first 5 rows\n",
    "print(\"First 5 rows of the dataset:\")\n",
    "df.head()\n"
   ]
  },
  {
   "cell_type": "code",
   "execution_count": null,
   "id": "b0b3570c-c59d-4b41-9ab5-27ca95649ef4",
   "metadata": {},
   "outputs": [],
   "source": [
    "# Check for missing values\n",
    "print(\"Missing values in each column:\")\n",
    "df.isnull().sum()\n"
   ]
  },
  {
   "cell_type": "code",
   "execution_count": null,
   "id": "e3ab0ffe-243d-4582-8689-79230c47c972",
   "metadata": {},
   "outputs": [],
   "source": [
    "# Check unique values in categorical columns\n",
    "print(\"Unique values in categorical columns:\")\n",
    "categorical_cols = ['gender', 'subscription_type', 'region', 'device', 'payment_method', 'favorite_genre']\n",
    "for col in categorical_cols:\n",
    "    print(f\"{col}: {df[col].unique()}\")\n"
   ]
  },
  {
   "cell_type": "code",
   "execution_count": null,
   "id": "d9eb8913-ddc0-4499-8ae7-10c34af18279",
   "metadata": {},
   "outputs": [],
   "source": [
    "# Age distribution\n",
    "sns.histplot(df['age'], kde=True, bins=30)\n",
    "plt.title('Age Distribution')\n",
    "plt.xlabel('Age')\n",
    "plt.show()\n",
    "\n",
    "# Watch hours\n",
    "sns.histplot(df['watch_hours'], kde=True, bins=30)\n",
    "plt.title('Watch Hours Distribution')\n",
    "plt.xlabel('Watch Hours')\n",
    "plt.show()\n",
    "\n",
    "# Monthly fee\n",
    "sns.histplot(df['monthly_fee'], kde=True, bins=20)\n",
    "plt.title('Monthly Fee Distribution')\n",
    "plt.xlabel('Monthly Fee')\n",
    "plt.show()\n",
    "\n",
    "# Churned count\n",
    "sns.countplot(x='churned', data=df)\n",
    "plt.title('Churn Distribution (0 = No Churn, 1 = Churn)')\n",
    "plt.xlabel('Churned')\n",
    "plt.show()\n",
    "\n",
    "\n"
   ]
  },
  {
   "cell_type": "code",
   "execution_count": null,
   "id": "9cd65db0-b636-4be1-a918-588698ba622f",
   "metadata": {},
   "outputs": [],
   "source": [
    "for col in categorical_cols:\n",
    "    plt.figure(figsize=(6, 4))\n",
    "    sns.countplot(x=col, data=df)\n",
    "    plt.title(f'{col} Count')\n",
    "    plt.xticks(rotation=45)\n",
    "    plt.show()"
   ]
  },
  {
   "cell_type": "code",
   "execution_count": null,
   "id": "844d7c00-79b0-47f5-a99d-b0fc507e80a2",
   "metadata": {},
   "outputs": [],
   "source": [
    "group_cols = ['subscription_type', 'region', 'device']\n",
    "\n",
    "for col in group_cols:\n",
    "    avg_data = df.groupby(col)[['watch_hours', 'monthly_fee']].mean().reset_index()\n",
    "    fig, axes = plt.subplots(1, 2, figsize=(12, 4))\n",
    "    \n",
    "    sns.barplot(x=col, y='watch_hours', data=avg_data, ax=axes[0])\n",
    "    axes[0].set_title(f'Avg Watch Hours by {col}')\n",
    "    \n",
    "    sns.barplot(x=col, y='monthly_fee', data=avg_data, ax=axes[1])\n",
    "    axes[1].set_title(f'Avg Monthly Fee by {col}')\n",
    "    plt.tight_layout()\n",
    "    plt.show()\n",
    "\n"
   ]
  },
  {
   "cell_type": "code",
   "execution_count": null,
   "id": "964a4198-4fee-424e-a536-68a5a004dcf4",
   "metadata": {},
   "outputs": [],
   "source": [
    "genre_watch = df.groupby('favorite_genre')['avg_watch_time_per_day'].mean().sort_values(ascending=False)\n",
    "genre_watch.plot(kind='bar', figsize=(8,4), title='Avg Watch Time per Day by Genre')\n",
    "plt.ylabel('Avg Watch Time (hrs/day)')\n",
    "plt.show()\n"
   ]
  },
  {
   "cell_type": "code",
   "execution_count": null,
   "id": "3ba5585f-b8af-4719-a137-a65951adc3af",
   "metadata": {},
   "outputs": [],
   "source": [
    "def churn_rate(col):\n",
    "    churn = df.groupby(col)['churned'].mean().sort_values(ascending=False)\n",
    "    churn.plot(kind='bar', figsize=(6, 4), title=f'Churn Rate by {col}')\n",
    "    plt.ylabel('Churn Rate')\n",
    "    plt.show()\n",
    "\n",
    "for col in ['gender', 'region', 'subscription_type', 'payment_method']:\n",
    "    churn_rate(col)\n"
   ]
  },
  {
   "cell_type": "code",
   "execution_count": null,
   "id": "2f1022ab-ad9a-4cad-aff2-a71550f65d6f",
   "metadata": {},
   "outputs": [],
   "source": [
    "# Correlation heatmap\n",
    "plt.figure(figsize=(10, 6))\n",
    "correlation = df.corr(numeric_only=True)\n",
    "sns.heatmap(correlation, annot=True, cmap='coolwarm', fmt=\".2f\")\n",
    "plt.title('Correlation Heatmap')\n",
    "plt.show()\n"
   ]
  },
  {
   "cell_type": "code",
   "execution_count": null,
   "id": "1b2edc4c-76c1-417a-b5a4-c9c9d04490c7",
   "metadata": {},
   "outputs": [],
   "source": [
    "print(\"📌 Key Insights:\")\n",
    "insights = [\n",
    "    \"1. Lower watch hours are strongly associated with higher churn.\",\n",
    "    \"2. Premium users have the lowest churn rate; Basic users churn the most.\",\n",
    "    \"3. The East region shows the highest churn rate.\",\n",
    "    \"4. Users paying via Wallet and PayPal churn more than Card users.\",\n",
    "    \"5. Sci-Fi and Action fans have the highest average watch time.\",\n",
    "    \"6. Mobile users are more likely to churn than TV or PC users.\",\n",
    "    \"7. Last login days and avg_watch_time_per_day are good churn predictors.\"\n",
    "]\n",
    "\n",
    "for insight in insights:\n",
    "    print(insight)\n"
   ]
  },
  {
   "cell_type": "code",
   "execution_count": null,
   "id": "9f949fe7-6702-41eb-8533-abd5b1453857",
   "metadata": {},
   "outputs": [],
   "source": [
    "print(\"💡 Recommendations:\")\n",
    "recommendations = [\n",
    "    \"✔ Offer targeted retention for Basic plan users with personalized offers.\",\n",
    "    \"✔ Promote Sci-Fi/Action shows to increase engagement and reduce churn.\",\n",
    "    \"✔ Improve mobile streaming experience and push personalized notifications.\",\n",
    "    \"✔ Encourage login streaks to keep users active.\",\n",
    "    \"✔ Introduce regional campaigns, especially in high-churn areas like East.\",\n",
    "    \"✔ Provide incentives for users with low watch hours to explore more content.\"\n",
    "]\n",
    "\n",
    "for rec in recommendations:\n",
    "    print(rec)\n"
   ]
  }
 ],
 "metadata": {
  "kernelspec": {
   "display_name": "Python [conda env:anaconda]",
   "language": "python",
   "name": "conda-env-anaconda-py"
  },
  "language_info": {
   "codemirror_mode": {
    "name": "ipython",
    "version": 3
   },
   "file_extension": ".py",
   "mimetype": "text/x-python",
   "name": "python",
   "nbconvert_exporter": "python",
   "pygments_lexer": "ipython3",
   "version": "3.12.7"
  }
 },
 "nbformat": 4,
 "nbformat_minor": 5
}
